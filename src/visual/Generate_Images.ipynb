{
 "cells": [
  {
   "cell_type": "code",
   "execution_count": 5,
   "metadata": {},
   "outputs": [],
   "source": [
    "import matplotlib.pyplot as plt\n",
    "import numpy as np\n",
    "from mpl_toolkits.mplot3d import Axes3D\n",
    "import time\n",
    "import os\n",
    "from subprocess import call\n",
    "%matplotlib inline\n",
    "\n",
    "# Settings\n",
    "numBodies = 512\n",
    "numIterations = 1024\n",
    "bound = 32\n"
   ]
  },
  {
   "cell_type": "code",
   "execution_count": 15,
   "metadata": {},
   "outputs": [],
   "source": [
    "def load_dataset(numpoints, data='./positionFile.txt'):\n",
    "    \"\"\"\n",
    "    Loads and returns train and test datasets.\n",
    "    \"\"\"\n",
    "    data = np.genfromtxt(fname=data, delimiter='|')\n",
    "    x = data[:,:data.shape[1]]\n",
    "    x2 = np.reshape(x, [int(data.shape[0]/numpoints), numpoints, 3])\n",
    "    #print(x2[0])\n",
    "    return (x2)"
   ]
  },
  {
   "cell_type": "code",
   "execution_count": 14,
   "metadata": {},
   "outputs": [
    {
     "name": "stdout",
     "output_type": "stream",
     "text": [
      "[[ -2.61216  28.9667  -24.1633 ]\n",
      " [ -2.28983  30.373   -14.4774 ]\n",
      " [-10.9684  -27.7964    4.49111]\n",
      " ..., \n",
      " [ 19.1614    2.49176  29.7271 ]\n",
      " [ 28.6428    2.84799  29.0644 ]\n",
      " [ 22.6857   14.0153   26.6595 ]]\n"
     ]
    }
   ],
   "source": [
    "x = load_dataset(numBodies)\n",
    "\n",
    "#fig = \n",
    "\n",
    "#ax.scatter(xs=x[0,:,0].tolist, ys=x[0,:,1].tolist, zs=x[0,:,2].tolist)\n",
    "for i in range(0,numIterations):\n",
    "    fig = plt.figure(i)\n",
    "    ax = Axes3D(plt.figure(i))\n",
    "    ax.dist = 10\n",
    "    ax.set_xlim([-bound,bound])\n",
    "    ax.set_ylim([-bound,bound])\n",
    "    ax.set_zlim([-bound,bound])\n",
    "    ax.scatter3D(x[i,:,0],x[i,:,1],x[i,:,2])\n",
    "    fig.savefig('images/img_' + str(i).zfill(4) + '.png', bbox_inches='tight')\n",
    "    plt.close(fig)\n",
    "    #plt.show()\n",
    "    #time.sleep(1)"
   ]
  }
 ],
 "metadata": {
  "kernelspec": {
   "display_name": "Python 3",
   "language": "python",
   "name": "python3"
  },
  "language_info": {
   "codemirror_mode": {
    "name": "ipython",
    "version": 3
   },
   "file_extension": ".py",
   "mimetype": "text/x-python",
   "name": "python",
   "nbconvert_exporter": "python",
   "pygments_lexer": "ipython3",
   "version": "3.6.5"
  }
 },
 "nbformat": 4,
 "nbformat_minor": 2
}
